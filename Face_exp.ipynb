{
 "cells": [
  {
   "cell_type": "code",
   "execution_count": 0,
   "metadata": {
    "colab": {},
    "colab_type": "code",
    "id": "sBSZ9vezCrGB"
   },
   "outputs": [],
   "source": [
    "import keras\n",
    "from keras.preprocessing.image import ImageDataGenerator\n",
    "from keras.models import Sequential\n",
    "from keras.layers import Dense,Dropout,Activation,Flatten,BatchNormalization\n",
    "from keras.layers import Conv2D,MaxPool2D\n",
    "import os"
   ]
  },
  {
   "cell_type": "code",
   "execution_count": 0,
   "metadata": {
    "colab": {},
    "colab_type": "code",
    "id": "PpNpRBlxEsrK"
   },
   "outputs": [],
   "source": [
    "num_classes=5\n",
    "img_rows,img_cols=48,48\n",
    "batch_size=32"
   ]
  },
  {
   "cell_type": "markdown",
   "metadata": {
    "colab_type": "text",
    "id": "3hCWKo00pKjG"
   },
   "source": [
    "!unzip -q \"/content/drive/My Drive/fff/Emotion Dataset.zip\""
   ]
  },
  {
   "cell_type": "code",
   "execution_count": 0,
   "metadata": {
    "colab": {
     "base_uri": "https://localhost:8080/",
     "height": 50
    },
    "colab_type": "code",
    "id": "2vzXY2jOEu7A",
    "outputId": "33c38995-015d-4caa-ab36-ceefb35adaa9"
   },
   "outputs": [
    {
     "name": "stdout",
     "output_type": "stream",
     "text": [
      "Emotion1232.h5\tEmotion123.h5  fer2013.csv  train\n",
      "Emotion1233.h5\tfer2013.bib    README\t    validation\n"
     ]
    }
   ],
   "source": [
    "import os\n",
    "import zipfile\n",
    "os.getcwd() \n",
    "os.chdir('/content/fer2013')\n",
    "!ls\n",
    "\n"
   ]
  },
  {
   "cell_type": "markdown",
   "metadata": {
    "colab_type": "text",
    "id": "SjoUAOBtQSoP"
   },
   "source": [
    "#!unzip -q \"/content/drive/My Drive/deep learning/Emotion Dataset.zip\""
   ]
  },
  {
   "cell_type": "code",
   "execution_count": 0,
   "metadata": {
    "colab": {},
    "colab_type": "code",
    "id": "FHtmSzSDJtnZ"
   },
   "outputs": [],
   "source": [
    "train_datagen=ImageDataGenerator(rescale=1./255,\n",
    "                                 rotation_range=30,\n",
    "                                 shear_range=0.3,\n",
    "                                 zoom_range=0.3,\n",
    "                                 width_shift_range=0.4,\n",
    "                                 height_shift_range=0.4,\n",
    "                                 horizontal_flip=True,\n",
    "                                 fill_mode='nearest',\n",
    "                                            )\n",
    "validation_datagen=ImageDataGenerator(rescale=1./255)\n"
   ]
  },
  {
   "cell_type": "code",
   "execution_count": 0,
   "metadata": {
    "colab": {
     "base_uri": "https://localhost:8080/",
     "height": 34
    },
    "colab_type": "code",
    "id": "GZNZe5-RMNqL",
    "outputId": "8dfa990c-4512-4bde-d418-45de6737bfe6"
   },
   "outputs": [
    {
     "name": "stdout",
     "output_type": "stream",
     "text": [
      "Found 24176 images belonging to 5 classes.\n"
     ]
    }
   ],
   "source": [
    "train_gen=train_datagen.flow_from_directory('train',\n",
    "                                            color_mode='grayscale',\n",
    "                                            target_size=(img_rows,img_cols),\n",
    "                                            batch_size=batch_size,\n",
    "                                            class_mode='categorical',\n",
    "                                            shuffle=True\n",
    "                                \n",
    "                                            )"
   ]
  },
  {
   "cell_type": "code",
   "execution_count": 0,
   "metadata": {
    "colab": {
     "base_uri": "https://localhost:8080/",
     "height": 34
    },
    "colab_type": "code",
    "id": "fDve3Hbn2jd9",
    "outputId": "9ef00850-38c1-43cb-9b9b-46e72c4aacae"
   },
   "outputs": [
    {
     "name": "stdout",
     "output_type": "stream",
     "text": [
      "Found 3006 images belonging to 5 classes.\n"
     ]
    }
   ],
   "source": [
    "validation_gen=validation_datagen.flow_from_directory('validation',\n",
    "                                            color_mode='grayscale',\n",
    "                                            target_size=(img_rows,img_cols),\n",
    "                                            batch_size=batch_size,\n",
    "                                            class_mode='categorical',\n",
    "                                            shuffle=True\n",
    "                                \n",
    "                                            )"
   ]
  },
  {
   "cell_type": "code",
   "execution_count": 0,
   "metadata": {
    "colab": {},
    "colab_type": "code",
    "id": "0HWKDRIS7tNL"
   },
   "outputs": [],
   "source": [
    "model=Sequential()"
   ]
  },
  {
   "cell_type": "code",
   "execution_count": 0,
   "metadata": {
    "colab": {},
    "colab_type": "code",
    "id": "qI3VEN5F7wL9"
   },
   "outputs": [],
   "source": [
    "model.add(Conv2D(32,(3,3),padding='same',kernel_initializer='he_normal',input_shape=(img_rows,img_cols,1)))\n",
    "model.add(Activation('elu'))\n",
    "model.add(BatchNormalization())\n",
    "model.add(Conv2D(32,(3,3),padding='same',kernel_initializer='he_normal',input_shape=(img_rows,img_cols,1)))\n",
    "model.add(Activation('elu'))\n",
    "model.add(BatchNormalization())\n",
    "model.add(MaxPool2D(pool_size=(2,2)))\n",
    "model.add(Dropout(0.2))"
   ]
  },
  {
   "cell_type": "code",
   "execution_count": 0,
   "metadata": {
    "colab": {},
    "colab_type": "code",
    "id": "W0btLtwYAW_d"
   },
   "outputs": [],
   "source": [
    "model.add(Conv2D(64,(3,3),padding='same',kernel_initializer='he_normal'))\n",
    "model.add(Activation('elu'))\n",
    "model.add(BatchNormalization())\n",
    "model.add(Conv2D(64,(3,3),padding='same',kernel_initializer='he_normal'))\n",
    "model.add(Activation('elu'))\n",
    "model.add(BatchNormalization())\n",
    "model.add(MaxPool2D(pool_size=(2,2)))\n",
    "model.add(Dropout(0.2))"
   ]
  },
  {
   "cell_type": "code",
   "execution_count": 0,
   "metadata": {
    "colab": {},
    "colab_type": "code",
    "id": "JTRpIlTGAYjZ"
   },
   "outputs": [],
   "source": [
    "model.add(Conv2D(128,(3,3),padding='same',kernel_initializer='he_normal'))\n",
    "model.add(Activation('elu'))\n",
    "model.add(BatchNormalization())\n",
    "model.add(Conv2D(128,(3,3),padding='same',kernel_initializer='he_normal'))\n",
    "model.add(Activation('elu'))\n",
    "model.add(BatchNormalization())\n",
    "model.add(MaxPool2D(pool_size=(2,2)))\n",
    "model.add(Dropout(0.2))"
   ]
  },
  {
   "cell_type": "code",
   "execution_count": 0,
   "metadata": {
    "colab": {},
    "colab_type": "code",
    "id": "b_OohHPpA29N"
   },
   "outputs": [],
   "source": [
    "model.add(Conv2D(256,(3,3),padding='same',kernel_initializer='he_normal'))\n",
    "model.add(Activation('elu'))\n",
    "model.add(BatchNormalization())\n",
    "model.add(Conv2D(256,(3,3),padding='same',kernel_initializer='he_normal'))\n",
    "model.add(Activation('elu'))\n",
    "model.add(BatchNormalization())\n",
    "model.add(MaxPool2D(pool_size=(2,2)))\n",
    "model.add(Dropout(0.2))"
   ]
  },
  {
   "cell_type": "code",
   "execution_count": 0,
   "metadata": {
    "colab": {},
    "colab_type": "code",
    "id": "e53MYFfTA7bg"
   },
   "outputs": [],
   "source": [
    "model.add(Flatten())\n",
    "model.add(Dense(64,kernel_initializer='he_normal'))\n",
    "model.add(Activation('elu'))\n",
    "model.add(BatchNormalization())\n",
    "model.add(Dropout(0.5))\n"
   ]
  },
  {
   "cell_type": "code",
   "execution_count": 0,
   "metadata": {
    "colab": {},
    "colab_type": "code",
    "id": "g92YKLaWBqks"
   },
   "outputs": [],
   "source": [
    "model.add(Dense(64,kernel_initializer='he_normal'))\n",
    "model.add(Activation('elu'))\n",
    "model.add(BatchNormalization())\n",
    "model.add(Dropout(0.5))"
   ]
  },
  {
   "cell_type": "code",
   "execution_count": 0,
   "metadata": {
    "colab": {},
    "colab_type": "code",
    "id": "emSHLMm7Bst8"
   },
   "outputs": [],
   "source": [
    "model.add(Dense(num_classes,kernel_initializer='he_normal'))\n",
    "model.add(Activation('softmax'))"
   ]
  },
  {
   "cell_type": "code",
   "execution_count": 0,
   "metadata": {
    "colab": {
     "base_uri": "https://localhost:8080/",
     "height": 1000
    },
    "colab_type": "code",
    "id": "BZVjHT3SB6eS",
    "outputId": "e46b5a8d-46da-4b0f-b2e1-1336d92b056b"
   },
   "outputs": [
    {
     "name": "stdout",
     "output_type": "stream",
     "text": [
      "Model: \"sequential_4\"\n",
      "_________________________________________________________________\n",
      "Layer (type)                 Output Shape              Param #   \n",
      "=================================================================\n",
      "conv2d_25 (Conv2D)           (None, 48, 48, 32)        320       \n",
      "_________________________________________________________________\n",
      "activation_34 (Activation)   (None, 48, 48, 32)        0         \n",
      "_________________________________________________________________\n",
      "batch_normalization_31 (Batc (None, 48, 48, 32)        128       \n",
      "_________________________________________________________________\n",
      "conv2d_26 (Conv2D)           (None, 48, 48, 32)        9248      \n",
      "_________________________________________________________________\n",
      "activation_35 (Activation)   (None, 48, 48, 32)        0         \n",
      "_________________________________________________________________\n",
      "batch_normalization_32 (Batc (None, 48, 48, 32)        128       \n",
      "_________________________________________________________________\n",
      "max_pooling2d_13 (MaxPooling (None, 24, 24, 32)        0         \n",
      "_________________________________________________________________\n",
      "dropout_19 (Dropout)         (None, 24, 24, 32)        0         \n",
      "_________________________________________________________________\n",
      "conv2d_27 (Conv2D)           (None, 24, 24, 64)        18496     \n",
      "_________________________________________________________________\n",
      "activation_36 (Activation)   (None, 24, 24, 64)        0         \n",
      "_________________________________________________________________\n",
      "batch_normalization_33 (Batc (None, 24, 24, 64)        256       \n",
      "_________________________________________________________________\n",
      "conv2d_28 (Conv2D)           (None, 24, 24, 64)        36928     \n",
      "_________________________________________________________________\n",
      "activation_37 (Activation)   (None, 24, 24, 64)        0         \n",
      "_________________________________________________________________\n",
      "batch_normalization_34 (Batc (None, 24, 24, 64)        256       \n",
      "_________________________________________________________________\n",
      "max_pooling2d_14 (MaxPooling (None, 12, 12, 64)        0         \n",
      "_________________________________________________________________\n",
      "dropout_20 (Dropout)         (None, 12, 12, 64)        0         \n",
      "_________________________________________________________________\n",
      "conv2d_29 (Conv2D)           (None, 12, 12, 128)       73856     \n",
      "_________________________________________________________________\n",
      "activation_38 (Activation)   (None, 12, 12, 128)       0         \n",
      "_________________________________________________________________\n",
      "batch_normalization_35 (Batc (None, 12, 12, 128)       512       \n",
      "_________________________________________________________________\n",
      "conv2d_30 (Conv2D)           (None, 12, 12, 128)       147584    \n",
      "_________________________________________________________________\n",
      "activation_39 (Activation)   (None, 12, 12, 128)       0         \n",
      "_________________________________________________________________\n",
      "batch_normalization_36 (Batc (None, 12, 12, 128)       512       \n",
      "_________________________________________________________________\n",
      "max_pooling2d_15 (MaxPooling (None, 6, 6, 128)         0         \n",
      "_________________________________________________________________\n",
      "dropout_21 (Dropout)         (None, 6, 6, 128)         0         \n",
      "_________________________________________________________________\n",
      "conv2d_31 (Conv2D)           (None, 6, 6, 256)         295168    \n",
      "_________________________________________________________________\n",
      "activation_40 (Activation)   (None, 6, 6, 256)         0         \n",
      "_________________________________________________________________\n",
      "batch_normalization_37 (Batc (None, 6, 6, 256)         1024      \n",
      "_________________________________________________________________\n",
      "conv2d_32 (Conv2D)           (None, 6, 6, 256)         590080    \n",
      "_________________________________________________________________\n",
      "activation_41 (Activation)   (None, 6, 6, 256)         0         \n",
      "_________________________________________________________________\n",
      "batch_normalization_38 (Batc (None, 6, 6, 256)         1024      \n",
      "_________________________________________________________________\n",
      "max_pooling2d_16 (MaxPooling (None, 3, 3, 256)         0         \n",
      "_________________________________________________________________\n",
      "dropout_22 (Dropout)         (None, 3, 3, 256)         0         \n",
      "_________________________________________________________________\n",
      "flatten_4 (Flatten)          (None, 2304)              0         \n",
      "_________________________________________________________________\n",
      "dense_10 (Dense)             (None, 64)                147520    \n",
      "_________________________________________________________________\n",
      "activation_42 (Activation)   (None, 64)                0         \n",
      "_________________________________________________________________\n",
      "batch_normalization_39 (Batc (None, 64)                256       \n",
      "_________________________________________________________________\n",
      "dropout_23 (Dropout)         (None, 64)                0         \n",
      "_________________________________________________________________\n",
      "dense_11 (Dense)             (None, 64)                4160      \n",
      "_________________________________________________________________\n",
      "activation_43 (Activation)   (None, 64)                0         \n",
      "_________________________________________________________________\n",
      "batch_normalization_40 (Batc (None, 64)                256       \n",
      "_________________________________________________________________\n",
      "dropout_24 (Dropout)         (None, 64)                0         \n",
      "_________________________________________________________________\n",
      "dense_12 (Dense)             (None, 5)                 325       \n",
      "_________________________________________________________________\n",
      "activation_44 (Activation)   (None, 5)                 0         \n",
      "=================================================================\n",
      "Total params: 1,328,037\n",
      "Trainable params: 1,325,861\n",
      "Non-trainable params: 2,176\n",
      "_________________________________________________________________\n"
     ]
    }
   ],
   "source": [
    "model.summary()"
   ]
  },
  {
   "cell_type": "code",
   "execution_count": 0,
   "metadata": {
    "colab": {},
    "colab_type": "code",
    "id": "IO3RYTDeDw1q"
   },
   "outputs": [],
   "source": [
    "from keras.optimizers import RMSprop,SGD,Adam\n",
    "from keras.callbacks import ModelCheckpoint,EarlyStopping,ReduceLROnPlateau"
   ]
  },
  {
   "cell_type": "code",
   "execution_count": 0,
   "metadata": {
    "colab": {},
    "colab_type": "code",
    "id": "QoBTkyquEKw1"
   },
   "outputs": [],
   "source": [
    "checkpoint=ModelCheckpoint('Emotion1234.h5',\n",
    "                           monitor='val_loss',\n",
    "                           mode='min',\n",
    "                           save_best_only=True,\n",
    "                           verbose=1)"
   ]
  },
  {
   "cell_type": "code",
   "execution_count": 0,
   "metadata": {
    "colab": {},
    "colab_type": "code",
    "id": "b5VWhsiqFf7x"
   },
   "outputs": [],
   "source": [
    "earlystop=EarlyStopping(monitor='val_loss',min_delta=0,\n",
    "                        patience=3,\n",
    "                        verbose=1,\n",
    "                        restore_best_weights=True)"
   ]
  },
  {
   "cell_type": "code",
   "execution_count": 0,
   "metadata": {
    "colab": {},
    "colab_type": "code",
    "id": "VRmExVQkGNFW"
   },
   "outputs": [],
   "source": [
    "reduce_lr=ReduceLROnPlateau(monitor='var_loss',\n",
    "                            factor=0.2,\n",
    "                            patience=3,\n",
    "                            verbose=1,\n",
    "                            min_delta=0.0001)"
   ]
  },
  {
   "cell_type": "code",
   "execution_count": 0,
   "metadata": {
    "colab": {},
    "colab_type": "code",
    "id": "GD_2ZyZKGtrV"
   },
   "outputs": [],
   "source": [
    "callbacks=[earlystop,checkpoint,reduce_lr]"
   ]
  },
  {
   "cell_type": "code",
   "execution_count": 0,
   "metadata": {
    "colab": {},
    "colab_type": "code",
    "id": "yhUSOXFQHKd7"
   },
   "outputs": [],
   "source": [
    "model.compile(loss='categorical_crossentropy',\n",
    "              optimizer=Adam(lr=0.001),\n",
    "              metrics=['accuracy'])"
   ]
  },
  {
   "cell_type": "code",
   "execution_count": 0,
   "metadata": {
    "colab": {},
    "colab_type": "code",
    "id": "nsiOVlPfHkp-"
   },
   "outputs": [],
   "source": [
    "nb_train_samples=24176\n",
    "nb_validation_samples=3006\n",
    "epochs=25"
   ]
  },
  {
   "cell_type": "code",
   "execution_count": 0,
   "metadata": {
    "colab": {
     "base_uri": "https://localhost:8080/",
     "height": 843
    },
    "colab_type": "code",
    "id": "rsa_9icWIESh",
    "outputId": "131ea579-219d-4ee6-9abf-eb42a658fac8"
   },
   "outputs": [
    {
     "name": "stdout",
     "output_type": "stream",
     "text": [
      "Epoch 1/25\n",
      "755/755 [==============================] - 59s 78ms/step - loss: 1.8388 - accuracy: 0.2356 - val_loss: 1.6861 - val_accuracy: 0.2789\n",
      "\n",
      "Epoch 00001: val_loss improved from inf to 1.68612, saving model to Emotion1234.h5\n",
      "Epoch 2/25\n",
      "  2/755 [..............................] - ETA: 1:00 - loss: 1.5305 - accuracy: 0.3125"
     ]
    },
    {
     "name": "stderr",
     "output_type": "stream",
     "text": [
      "/usr/local/lib/python3.6/dist-packages/keras/callbacks/callbacks.py:1042: RuntimeWarning: Reduce LR on plateau conditioned on metric `var_loss` which is not available. Available metrics are: val_loss,val_accuracy,loss,accuracy,lr\n",
      "  (self.monitor, ','.join(list(logs.keys()))), RuntimeWarning\n"
     ]
    },
    {
     "name": "stdout",
     "output_type": "stream",
     "text": [
      "755/755 [==============================] - 54s 71ms/step - loss: 1.5710 - accuracy: 0.2833 - val_loss: 1.5867 - val_accuracy: 0.2737\n",
      "\n",
      "Epoch 00002: val_loss improved from 1.68612 to 1.58665, saving model to Emotion1234.h5\n",
      "Epoch 3/25\n",
      "755/755 [==============================] - 54s 71ms/step - loss: 1.5480 - accuracy: 0.3040 - val_loss: 1.5419 - val_accuracy: 0.3100\n",
      "\n",
      "Epoch 00003: val_loss improved from 1.58665 to 1.54190, saving model to Emotion1234.h5\n",
      "Epoch 4/25\n",
      "755/755 [==============================] - 53s 71ms/step - loss: 1.5246 - accuracy: 0.3170 - val_loss: 1.3956 - val_accuracy: 0.3695\n",
      "\n",
      "Epoch 00004: val_loss improved from 1.54190 to 1.39560, saving model to Emotion1234.h5\n",
      "Epoch 5/25\n",
      "755/755 [==============================] - 54s 71ms/step - loss: 1.4694 - accuracy: 0.3490 - val_loss: 1.8942 - val_accuracy: 0.4038\n",
      "\n",
      "Epoch 00005: val_loss did not improve from 1.39560\n",
      "Epoch 6/25\n",
      "755/755 [==============================] - 54s 71ms/step - loss: 1.3861 - accuracy: 0.4047 - val_loss: 1.2275 - val_accuracy: 0.4832\n",
      "\n",
      "Epoch 00006: val_loss improved from 1.39560 to 1.22748, saving model to Emotion1234.h5\n",
      "Epoch 7/25\n",
      "755/755 [==============================] - 53s 71ms/step - loss: 1.2901 - accuracy: 0.4625 - val_loss: 1.5065 - val_accuracy: 0.4758\n",
      "\n",
      "Epoch 00007: val_loss did not improve from 1.22748\n",
      "Epoch 8/25\n",
      "755/755 [==============================] - 54s 71ms/step - loss: 1.2265 - accuracy: 0.4934 - val_loss: 1.1435 - val_accuracy: 0.5259\n",
      "\n",
      "Epoch 00008: val_loss improved from 1.22748 to 1.14352, saving model to Emotion1234.h5\n",
      "Epoch 9/25\n",
      "755/755 [==============================] - 54s 71ms/step - loss: 1.1896 - accuracy: 0.5154 - val_loss: 1.3866 - val_accuracy: 0.5262\n",
      "\n",
      "Epoch 00009: val_loss did not improve from 1.14352\n",
      "Epoch 10/25\n",
      "755/755 [==============================] - 54s 71ms/step - loss: 1.1690 - accuracy: 0.5292 - val_loss: 1.3602 - val_accuracy: 0.5494\n",
      "\n",
      "Epoch 00010: val_loss did not improve from 1.14352\n",
      "Epoch 11/25\n",
      "755/755 [==============================] - 53s 71ms/step - loss: 1.1378 - accuracy: 0.5430 - val_loss: 1.3846 - val_accuracy: 0.5625\n",
      "Restoring model weights from the end of the best epoch\n",
      "\n",
      "Epoch 00011: val_loss did not improve from 1.14352\n",
      "Epoch 00011: early stopping\n"
     ]
    }
   ],
   "source": [
    "history=model.fit_generator(train_gen,steps_per_epoch=nb_train_samples//batch_size,\n",
    "                            epochs=epochs,\n",
    "                            callbacks=callbacks,\n",
    "                            validation_data=validation_gen,\n",
    "                            validation_steps=nb_validation_samples//batch_size)"
   ]
  }
 ],
 "metadata": {
  "accelerator": "GPU",
  "colab": {
   "collapsed_sections": [],
   "name": "Face_exp.ipynb",
   "provenance": [],
   "toc_visible": true
  },
  "kernelspec": {
   "display_name": "Python 3",
   "language": "python",
   "name": "python3"
  },
  "language_info": {
   "codemirror_mode": {
    "name": "ipython",
    "version": 3
   },
   "file_extension": ".py",
   "mimetype": "text/x-python",
   "name": "python",
   "nbconvert_exporter": "python",
   "pygments_lexer": "ipython3",
   "version": "3.7.6"
  }
 },
 "nbformat": 4,
 "nbformat_minor": 1
}
